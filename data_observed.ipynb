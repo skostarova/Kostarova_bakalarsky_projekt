{
 "cells": [
  {
   "cell_type": "code",
   "execution_count": null,
   "metadata": {},
   "outputs": [],
   "source": [
    "# VYTVORENIE DATASETU observed.csv"
   ]
  },
  {
   "cell_type": "code",
   "execution_count": 1,
   "metadata": {},
   "outputs": [],
   "source": [
    "# BLOK 1\n",
    "# Importovanie kniznic.\n",
    "\n",
    "import os, json\n",
    "import pandas as pd\n",
    "import numpy as np"
   ]
  },
  {
   "cell_type": "code",
   "execution_count": 2,
   "metadata": {},
   "outputs": [],
   "source": [
    "# BLOK 2\n",
    "# Nacitanie suborov. Vytvorenie prazdnej tabulky.\n",
    "\n",
    "path_to_json = 'krivky'\n",
    "json_files = [pos_json for pos_json in os.listdir(path_to_json) if pos_json.endswith('.json')]\n",
    "df=pd.DataFrame(columns=[\"q\", \"inc\", \"omega1\", \"omega2\", \"T1\", \"T2\", \"P\", \"Type\", \"Spot\", \"Ref\", \"name\", \"filter\", \"curve\"])"
   ]
  },
  {
   "cell_type": "code",
   "execution_count": 3,
   "metadata": {},
   "outputs": [],
   "source": [
    "# BLOK 3\n",
    "# Nacitanie dat do tabulky. Zoradenie dat v tabulke.\n",
    "\n",
    "p=0\n",
    "for index, js in enumerate(json_files):\n",
    "    with open(os.path.join(path_to_json, js)) as json_file:\n",
    "        json_text = json.load(json_file)\n",
    "        n=len(json_text[\"interpolated_light_curves\"])\n",
    "        f=np.array(list(json_text[\"interpolated_light_curves\"].keys()))\n",
    "        for i in range(n-1):\n",
    "            q = json_text[\"system_parameters\"][\"q\"]\n",
    "            inc = json_text[\"system_parameters\"][\"inc\"]\n",
    "            omega1 = json_text[\"system_parameters\"][\"omega1\"]\n",
    "            omega2 = json_text[\"system_parameters\"][\"omega2\"]\n",
    "            T1 = json_text[\"system_parameters\"][\"T1\"]\n",
    "            T2 = json_text[\"system_parameters\"][\"T2\"]\n",
    "            P = json_text[\"system_parameters\"][\"P\"]\n",
    "            Type = json_text[\"system_parameters\"][\"Type\"]\n",
    "            Spot = json_text[\"system_parameters\"][\"Spot\"]\n",
    "            Ref = json_text[\"system_parameters\"][\"Ref\"]\n",
    "            name = js[:-5]\n",
    "            Filter = f[i+1]\n",
    "            curve = json_text[\"interpolated_light_curves\"][Filter]\n",
    "            df.loc[p] = [q, inc, omega1, omega2, max(T1, T2), min(T1, T2), P, Type, Spot, Ref, name, Filter, curve]\n",
    "            p=p+1\n",
    "            \n",
    "df[\"Type\"]=df[\"Type\"].map({\"contact\":\"overcontact\", \"overcontact\":\"overcontact\", \"detached\":\"detached\", \"detected\":\"detached\"})            \n",
    "df=df.sort_values(by=[\"Type\", \"name\"])"
   ]
  },
  {
   "cell_type": "code",
   "execution_count": 4,
   "metadata": {},
   "outputs": [],
   "source": [
    "# BLOK 4\n",
    "# Ulozenie dat v podobe tabulky do suboru .csv.\n",
    "\n",
    "df.to_csv(\"observed.csv\")"
   ]
  },
  {
   "cell_type": "code",
   "execution_count": null,
   "metadata": {},
   "outputs": [],
   "source": []
  }
 ],
 "metadata": {
  "kernelspec": {
   "display_name": "Python 3",
   "language": "python",
   "name": "python3"
  },
  "language_info": {
   "codemirror_mode": {
    "name": "ipython",
    "version": 3
   },
   "file_extension": ".py",
   "mimetype": "text/x-python",
   "name": "python",
   "nbconvert_exporter": "python",
   "pygments_lexer": "ipython3",
   "version": "3.8.6"
  }
 },
 "nbformat": 4,
 "nbformat_minor": 4
}
