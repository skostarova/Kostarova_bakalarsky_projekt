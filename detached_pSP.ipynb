{
 "cells": [
  {
   "cell_type": "code",
   "execution_count": null,
   "metadata": {},
   "outputs": [],
   "source": [
    "# DETACHED - PREDIKCIA PRIMARY SURFACE POTENTIAL = Ω1 (PRIMARNY POVRCHOVY POTENCIAL)"
   ]
  },
  {
   "cell_type": "code",
   "execution_count": 1,
   "metadata": {},
   "outputs": [],
   "source": [
    "# BLOK 1\n",
    "# Importovanie kniznic.\n",
    "\n",
    "import numpy as np\n",
    "import pandas as pd\n",
    "import matplotlib.pyplot as plt\n",
    "\n",
    "from ast import literal_eval\n",
    "import math\n",
    "\n",
    "from keras.models import load_model\n",
    "from sklearn.model_selection import train_test_split\n",
    "from keras.layers import Conv1D, MaxPooling1D\n",
    "from keras.layers import Input, Dense, LSTM, Dropout, Flatten\n",
    "from keras.models import Model\n",
    "from tensorflow.keras.callbacks import ModelCheckpoint, EarlyStopping"
   ]
  },
  {
   "cell_type": "code",
   "execution_count": 2,
   "metadata": {},
   "outputs": [],
   "source": [
    "# BLOK 2\n",
    "# Funkcie pre generovanie sumu. Nastavenie pseudo-nahodneho generatora.\n",
    "\n",
    "def generate_observation_sigma(space_obs_frac=0.5):\n",
    "    \"\"\"\n",
    "    Draws a standard deviation of noise in light curve points from a \"true\" value provided in synthetic light curve.\n",
    "    Noise sigma is drawn from bimodal distribution taking into account contributions from space based and earth based\n",
    "    observations which have different levels of stochastic noise.\n",
    "\n",
    "    :param space_obs_frac: ratio between earth based and space based observations\n",
    "    :return: float; standard deviation of the light curve noise\n",
    "    \"\"\"\n",
    "    earth_based_sigma = 4e-3\n",
    "    space_based_sigma = 2e-4\n",
    "    sigma = np.random.choice([earth_based_sigma, space_based_sigma], p=[1-space_obs_frac, space_obs_frac])\n",
    "    return np.random.rayleigh(sigma)\n",
    "\n",
    "def stochastic_noise_generator(curve):\n",
    "    \"\"\"\n",
    "    Introduces gaussian noise into synthetic observation provided in `curve`.\n",
    "\n",
    "    :param curve: numpy.array; normalized light curve\n",
    "    :return: Tuple(numpy.array, float); normalized light curve with added noise, standard deviation of observations\n",
    "    \"\"\"\n",
    "    sigma = generate_observation_sigma()\n",
    "    return np.random.normal(curve, sigma), np.full(curve.shape, sigma)\n",
    "\n",
    "np.random.seed(1234)"
   ]
  },
  {
   "cell_type": "code",
   "execution_count": 3,
   "metadata": {},
   "outputs": [],
   "source": [
    "# BLOK 3\n",
    "# Nacitanie syntetickych dat.\n",
    "\n",
    "data = pd.read_pickle(\"../detached_one_curve.pkl\").reset_index() "
   ]
  },
  {
   "cell_type": "code",
   "execution_count": 4,
   "metadata": {},
   "outputs": [
    {
     "name": "stdout",
     "output_type": "stream",
     "text": [
      "SLOAN_r      7821\n",
      "SLOAN_g      7746\n",
      "TESS         7728\n",
      "Bessell_R    7726\n",
      "Bessell_I    7717\n",
      "SLOAN_z      7713\n",
      "GaiaDR2      7687\n",
      "Bessell_V    7678\n",
      "Bessell_U    7674\n",
      "Bessell_B    7672\n",
      "Kepler       7660\n",
      "SLOAN_i      7601\n",
      "SLOAN_u      7577\n",
      "Name: filter, dtype: int64\n"
     ]
    }
   ],
   "source": [
    "# BLOK 4\n",
    "# Vyber a priprava dat. Skontrolovanie vyberu podla filtrov.\n",
    "\n",
    "data_sample=data.sample(n=100000)\n",
    "\n",
    "y=np.array(data_sample[\"primary__surface_potential\"])\n",
    "X=[]\n",
    "for row in data_sample[\"curve\"]:\n",
    "    X.append(row)\n",
    "X=np.array(X)\n",
    "\n",
    "print(data_sample[\"filter\"].value_counts())"
   ]
  },
  {
   "cell_type": "code",
   "execution_count": 5,
   "metadata": {},
   "outputs": [],
   "source": [
    "# BLOK 5\n",
    "# Rozdelenie dat na trenovaciu a testovaciu mnozinu v pomere 80:20. Pridanie umeleho sumu.\n",
    "\n",
    "X_train1, X_test, y_train1, y_test = train_test_split(X, y, test_size=0.2)\n",
    "\n",
    "X_train=[]\n",
    "y_train=[]\n",
    "for i in range(len(X_train1)):\n",
    "    for j in range(3):\n",
    "        curve=stochastic_noise_generator(X_train1[i])\n",
    "        X_train.append(curve[0])\n",
    "        y_train.append(y_train1[i])\n",
    "        j+=1        \n",
    "X_train=np.array(X_train)\n",
    "y_train=np.array(y_train)\n",
    "\n",
    "X_test_n=[]\n",
    "y_test_n=[]\n",
    "for i in range(len(X_test)):\n",
    "    for j in range(3):\n",
    "        curve=stochastic_noise_generator(X_test[i])\n",
    "        X_test_n.append(curve[0])\n",
    "        y_test_n.append(y_test[i])\n",
    "        j+=1\n",
    "X_test_n=np.array(X_test_n)\n",
    "y_test_n=np.array(y_test_n)"
   ]
  },
  {
   "cell_type": "code",
   "execution_count": 6,
   "metadata": {},
   "outputs": [
    {
     "data": {
      "image/png": "[encoded data removed]",
      "text/plain": [
       "<Figure size 1080x504 with 1 Axes>"
      ]
     },
     "metadata": {
      "needs_background": "light"
     },
     "output_type": "display_data"
    },
    {
     "data": {
      "image/png": "[encoded data removed]",
      "text/plain": [
       "<Figure size 1080x504 with 1 Axes>"
      ]
     },
     "metadata": {
      "needs_background": "light"
     },
     "output_type": "display_data"
    }
   ],
   "source": [
    "# BLOK 6\n",
    "# Vykreslenie grafov distribucie hodnot trenovacej a testovacej mnoziny\n",
    "\n",
    "plt.figure(figsize=(15,7))\n",
    "plt.hist(y_train1, bins=200)\n",
    "plt.title(\"Test data\")\n",
    "plt.xlabel(\"primary surface potential Ω1\")\n",
    "plt.ylabel(\"count\")\n",
    "plt.grid(b=\"on\")\n",
    "plt.show()\n",
    "\n",
    "plt.figure(figsize=(15,7))\n",
    "plt.hist(y_test, bins=200)\n",
    "plt.title(\"Train data\")\n",
    "plt.xlabel(\"primary surface potential Ω1\")\n",
    "plt.ylabel(\"count\")\n",
    "plt.grid(b=\"on\")\n",
    "plt.show()"
   ]
  },
  {
   "cell_type": "code",
   "execution_count": 7,
   "metadata": {},
   "outputs": [
    {
     "name": "stdout",
     "output_type": "stream",
     "text": [
      "Model: \"model\"\n",
      "_________________________________________________________________\n",
      " Layer (type)                Output Shape              Param #   \n",
      "=================================================================\n",
      " input_1 (InputLayer)        [(None, 400, 1)]          0         \n",
      "                                                                 \n",
      " conv1d (Conv1D)             (None, 398, 64)           256       \n",
      "                                                                 \n",
      " max_pooling1d (MaxPooling1D  (None, 199, 64)          0         \n",
      " )                                                               \n",
      "                                                                 \n",
      " dropout (Dropout)           (None, 199, 64)           0         \n",
      "                                                                 \n",
      " lstm (LSTM)                 (None, 199, 64)           33024     \n",
      "                                                                 \n",
      " flatten (Flatten)           (None, 12736)             0         \n",
      "                                                                 \n",
      " dense (Dense)               (None, 64)                815168    \n",
      "                                                                 \n",
      " dense_1 (Dense)             (None, 32)                2080      \n",
      "                                                                 \n",
      " dense_2 (Dense)             (None, 1)                 33        \n",
      "                                                                 \n",
      "=================================================================\n",
      "Total params: 850,561\n",
      "Trainable params: 850,561\n",
      "Non-trainable params: 0\n",
      "_________________________________________________________________\n",
      "None\n"
     ]
    }
   ],
   "source": [
    "# BLOK 7\n",
    "# Vytvorenie architektury modelu na predikciu t2/t1. Vypis architektury modelu. Spustenie trenovania.\n",
    "\n",
    "inputs = Input(shape=(400,1))\n",
    "b = Conv1D(64, kernel_size = 3, padding = \"valid\")(inputs)\n",
    "b = MaxPooling1D(2)(b)\n",
    "b = Dropout(0.2)(b)\n",
    "b = LSTM(64, return_sequences=True)(b)\n",
    "b = Flatten()(b)\n",
    "b = Dense(64, activation='relu')(b)\n",
    "x = Dense(32, activation='relu')(b)\n",
    "output = Dense(1, activation='linear')(x)\n",
    "model = Model(inputs=inputs, outputs=output)\n",
    "model.compile(loss='mse', optimizer='adam', metrics=[\"mae\", \"mape\"])\n",
    "print(model.summary())\n",
    "\n",
    "saved_model = \"detached_pSP.hdf5\"\n",
    "checkpoint = ModelCheckpoint(saved_model, monitor='val_mae', verbose=1, save_best_only=True, mode='min')\n",
    "early = EarlyStopping(monitor=\"val_mae\", mode=\"min\", patience=25)\n",
    "callbacks_list = [checkpoint, early]\n",
    "\n",
    "history=model.fit(X_train, y_train, validation_split=0.1, epochs=250, verbose=1, callbacks = callbacks_list, batch_size=64)"
   ]
  },
  {
   "cell_type": "code",
   "execution_count": 8,
   "metadata": {},
   "outputs": [
    {
     "name": "stdout",
     "output_type": "stream",
     "text": [
      "1875/1875 [==============================] - 59s 31ms/step - loss: 118.7162 - mae: 3.7250 - mape: 30.6687\n"
     ]
    },
    {
     "data": {
      "text/plain": [
       "[118.71619415283203, 3.7249863147735596, 30.66868782043457]"
      ]
     },
     "execution_count": 8,
     "metadata": {},
     "output_type": "execute_result"
    }
   ],
   "source": [
    "# BLOK 8\n",
    "# Nacitanie a vyhodnotenie modelu na testovacich datach.\n",
    "\n",
    "model=load_model(\"detached_pSP.hdf5\")\n",
    "model.evaluate(X_test_n, y_test_n)"
   ]
  },
  {
   "cell_type": "code",
   "execution_count": 9,
   "metadata": {},
   "outputs": [
    {
     "name": "stdout",
     "output_type": "stream",
     "text": [
      "pocet kriviek s relativnou chybou < 5%: 13287\n",
      "pocet kriviek s relativnou chybou < 2,5%: 7400\n",
      "pocet kriviek s relativnou chybou < 1%: 3025\n",
      "pocet kriviek s relativnou chybou < 10%: 22533\n"
     ]
    }
   ],
   "source": [
    "# BLOK 9\n",
    "# Vysledky predikcie na testovacich krivkach.\n",
    "\n",
    "y_pred_n=model.predict(X_test_n)\n",
    "y_pred_n=np.reshape(y_pred_n, len(y_pred_n))\n",
    "df_n=pd.DataFrame(data={'y_test_n': y_test_n, 'y_predict_n': y_pred_n})\n",
    "df_n[\"diff\"]=df_n[\"y_test_n\"]-df_n[\"y_predict_n\"]\n",
    "df_n[\"abs_diff\"]=abs(df_n[\"diff\"])\n",
    "df_n[\"re\"]=df_n[\"abs_diff\"]/df_n[\"y_test_n\"]\n",
    "\n",
    "print(\"pocet kriviek s relativnou chybou < 5%: \" + str(len(df_n[df_n[\"re\"]<0.05])) +\n",
    "      \"\\npocet kriviek s relativnou chybou < 2,5%: \" + str(len(df_n[df_n[\"re\"]<0.025])) +\n",
    "      \"\\npocet kriviek s relativnou chybou < 1%: \" + str(len(df_n[df_n[\"re\"]<0.01])) +\n",
    "      \"\\npocet kriviek s relativnou chybou < 10%: \" + str(len(df_n[df_n[\"re\"]<0.1])))"
   ]
  },
  {
   "cell_type": "code",
   "execution_count": 3,
   "metadata": {},
   "outputs": [],
   "source": [
    "# BLOK 11\n",
    "# Nacitanie a priprava observacnych dat.\n",
    "\n",
    "obs=pd.read_csv(\"observed.csv\")\n",
    "obs=obs[[\"name\", \"filter\", \"Spot\", \"omega1\", \"curve\", \"Type\"]]\n",
    "obs=obs.loc[obs.Type.isin([\"detached\", \"detected\"])]\n",
    "X_o=[]\n",
    "for row in obs[\"curve\"]:\n",
    "    processed_data=literal_eval(row)\n",
    "    X_o.append(processed_data)\n",
    "X_o=np.array(X_o, dtype=np.float32)"
   ]
  },
  {
   "cell_type": "code",
   "execution_count": 9,
   "metadata": {},
   "outputs": [
    {
     "name": "stdout",
     "output_type": "stream",
     "text": [
      "2/2 [==============================] - 0s 21ms/step - loss: 4.6958 - mae: 1.8375 - mape: 45.0417\n"
     ]
    },
    {
     "data": {
      "text/plain": [
       "[4.695822715759277, 1.8375097513198853, 45.04172897338867]"
      ]
     },
     "execution_count": 9,
     "metadata": {},
     "output_type": "execute_result"
    }
   ],
   "source": [
    "# BLOK 12\n",
    "# Predikcia a zhodnotenie modelu na observacnych datach.\n",
    "\n",
    "obs_pred=model.predict(X_o)\n",
    "model.evaluate(X_o,obs[\"omega1\"])"
   ]
  },
  {
   "cell_type": "code",
   "execution_count": 10,
   "metadata": {},
   "outputs": [
    {
     "name": "stdout",
     "output_type": "stream",
     "text": [
      "pocet observacnych kriviek s relativnou chybou < 5%: 1\n",
      "pocet observacnych kriviek s relativnou chybou < 2,5%: 1\n",
      "pocet observacnych kriviek s relativnou chybou < 1%: 1\n",
      "pocet observacnych kriviek s relativnou chybou < 10%: 2\n"
     ]
    }
   ],
   "source": [
    "# BLOK 13\n",
    "# Vysledky predikcie na observacnych krivkach.\n",
    "\n",
    "y_pred_o=np.reshape(obs_pred, len(obs_pred))\n",
    "df_o = {\"validation\": obs[\"omega1\"], \"predict\": y_pred_o, \"name\": obs[\"name\"], \"filter\": obs[\"filter\"], \"spot\": obs[\"Spot\"]}\n",
    "df_o = pd.DataFrame(data=df_o)\n",
    "df_o[\"diff\"]=df_o[\"validation\"]-df_o[\"predict\"]\n",
    "df_o[\"abs_diff\"]=abs(df_o[\"diff\"])\n",
    "df_o[\"re\"]=df_o[\"abs_diff\"]/df_o[\"validation\"]\n",
    "\n",
    "print(\"pocet observacnych kriviek s relativnou chybou < 5%: \" + str(len(df_o[df_o[\"re\"]<0.05])) +\n",
    "      \"\\npocet observacnych kriviek s relativnou chybou < 2,5%: \" + str(len(df_o[df_o[\"re\"]<0.025])) +\n",
    "      \"\\npocet observacnych kriviek s relativnou chybou < 1%: \" + str(len(df_o[df_o[\"re\"]<0.01])) +\n",
    "      \"\\npocet observacnych kriviek s relativnou chybou < 10%: \" + str(len(df_o[df_o[\"re\"]<0.1])))"
   ]
  },
  {
   "cell_type": "code",
   "execution_count": 11,
   "metadata": {},
   "outputs": [
    {
     "data": {
      "image/png": "[encoded data removed]",
      "text/plain": [
       "<Figure size 1440x504 with 1 Axes>"
      ]
     },
     "metadata": {
      "needs_background": "light"
     },
     "output_type": "display_data"
    }
   ],
   "source": [
    "# BLOK 14\n",
    "# Vykreslenie predikcii na observacnych datach.\n",
    "\n",
    "def autolabel(rects, pos):\n",
    "    n=0\n",
    "    for rect in rects:\n",
    "        height = rect.get_height()\n",
    "        ax.text(rect.get_x() + rect.get_width()/2. +0.23 , pos,\n",
    "                s=spot.spot[n],\n",
    "                ha='center', va='bottom', fontsize=12, bbox=dict(facecolor='yellow', alpha=0.5))\n",
    "        n=n+1\n",
    "spot=df_o[[\"name\", \"spot\"]].drop_duplicates().reset_index()\n",
    "spot.spot=spot.spot.map({\"N\":\"\", \"Y\":\"SPOT\", \"y\":\"SPOT\"})\n",
    "true_sp=df_o[[\"validation\", \"name\"]].groupby([\"name\"]).mean()\n",
    "names=pd.DataFrame(data={\"name\":true_sp.index})                #názvy systémov hviezd\n",
    "sp_B=pd.merge(names, df_o[df_o[\"filter\"]==\"B\"][[\"predict\", \"name\"]], how=\"left\")\n",
    "sp_V=pd.merge(names, df_o[df_o[\"filter\"]==\"V\"][[\"predict\", \"name\"]], how=\"left\")\n",
    "sp_R=pd.merge(names, df_o[df_o[\"filter\"]==\"R\"][[\"predict\", \"name\"]], how=\"left\")\n",
    "sp_I=pd.merge(names, df_o[df_o[\"filter\"]==\"I\"][[\"predict\", \"name\"]], how=\"left\")\n",
    "\n",
    "fig, ax = plt.subplots(figsize=(20,7))\n",
    "\n",
    "barWidth = 0.12\n",
    "br1 = np.arange(len(names))\n",
    "br2 = [x + barWidth for x in br1]\n",
    "br3 = [x + barWidth for x in br2]\n",
    "br4 = [x + barWidth for x in br3]\n",
    "br5 = [x + barWidth for x in br4]\n",
    "\n",
    "r=ax.bar(br1, true_sp.validation, barWidth, label='true inclination', color=\"limegreen\")\n",
    "ax.bar(br2, sp_V.predict, barWidth, label='prediction on filter V', color=\"moccasin\")\n",
    "ax.bar(br3, sp_B.predict, barWidth, label='prediction on filter B', color=\"cornflowerblue\")\n",
    "ax.bar(br4, sp_I.predict, barWidth, label='prediction on filter I', color=\"silver\")\n",
    "ax.bar(br5, sp_R.predict, barWidth, label='prediction on filter R', color=\"salmon\")\n",
    "\n",
    "plt.title(\"PRIMARY SURFACE POTENTIAL predictions - detached\")\n",
    "plt.xticks(br1, true_sp.index, rotation=45, ha='right')\n",
    "plt.ylabel(\"primary surface potential Ω1\")\n",
    "ax.legend(loc='upper center', bbox_to_anchor=(0.5, -0.2), ncol=5)\n",
    "\n",
    "plt.grid(b=\"on\")\n",
    "plt.ylim(top=12)\n",
    "autolabel(r, 11.4)\n",
    "plt.show()"
   ]
  },
  {
   "cell_type": "code",
   "execution_count": null,
   "metadata": {},
   "outputs": [],
   "source": []
  }
 ],
 "metadata": {
  "kernelspec": {
   "display_name": "Python 3",
   "language": "python",
   "name": "python3"
  },
  "language_info": {
   "codemirror_mode": {
    "name": "ipython",
    "version": 3
   },
   "file_extension": ".py",
   "mimetype": "text/x-python",
   "name": "python",
   "nbconvert_exporter": "python",
   "pygments_lexer": "ipython3",
   "version": "3.8.6"
  }
 },
 "nbformat": 4,
 "nbformat_minor": 4
}
