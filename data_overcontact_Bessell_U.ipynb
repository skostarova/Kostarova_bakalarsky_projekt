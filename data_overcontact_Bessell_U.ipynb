{
 "cells": [
  {
   "cell_type": "code",
   "execution_count": null,
   "metadata": {},
   "outputs": [],
   "source": [
    "# VYTVORENIE DATASETU overcontact_Bessell_U.pkl"
   ]
  },
  {
   "cell_type": "code",
   "execution_count": 1,
   "metadata": {},
   "outputs": [],
   "source": [
    "# BLOK 1\n",
    "# Importovanie kniznic.\n",
    "\n",
    "import numpy as np\n",
    "import pandas as pd\n",
    "import sqlite3\n",
    "import io"
   ]
  },
  {
   "cell_type": "code",
   "execution_count": 2,
   "metadata": {},
   "outputs": [],
   "source": [
    "# BLOK 2\n",
    "# Funkcia pre vyber svetelnej krivky z nespracovanych dat. Zadefinovanie cesty k databaze (subor .db).\n",
    "\n",
    "def get_curve(txt):\n",
    "    out = io.BytesIO(txt)\n",
    "    out.seek(0)\n",
    "    return np.load(out)\n",
    "\n",
    "FILEPATH = '../../../data-upjs/overcontact.db'"
   ]
  },
  {
   "cell_type": "code",
   "execution_count": 3,
   "metadata": {},
   "outputs": [
    {
     "name": "stdout",
     "output_type": "stream",
     "text": [
      "[('parameters',), ('curves',), ('auxiliary',)]\n"
     ]
    }
   ],
   "source": [
    "# BLOK 3 \n",
    "# Vytvorenie pripojenia na subor. Vypis vsetkych tabuliek v databaze.\n",
    "\n",
    "conn = sqlite3.connect(FILEPATH)\n",
    "\n",
    "sql_query = \"\"\"SELECT name FROM sqlite_master WHERE type='table';\"\"\"\n",
    "cursor = conn.cursor()\n",
    "cursor.execute(sql_query)\n",
    "print(cursor.fetchall())"
   ]
  },
  {
   "cell_type": "code",
   "execution_count": 4,
   "metadata": {},
   "outputs": [],
   "source": [
    "# BLOK 4\n",
    "# Nacitanie parametrov.\n",
    "\n",
    "df_parameters = pd.read_sql_query(\"SELECT * FROM parameters\", conn)"
   ]
  },
  {
   "cell_type": "code",
   "execution_count": 5,
   "metadata": {},
   "outputs": [],
   "source": [
    "# BLOK 5\n",
    "# Nacitanie svetelnych kriviek.\n",
    "\n",
    "df_curves = pd.read_sql_query(\"SELECT * FROM curves\", conn)"
   ]
  },
  {
   "cell_type": "code",
   "execution_count": 6,
   "metadata": {},
   "outputs": [],
   "source": [
    "# BLOK 6\n",
    "# Vytvorenie tabulky. Jeden riadok = jeden system zakrytovych premennych vo filtri Bessell_U.\n",
    "\n",
    "df1 = df_curves[[\"id\", \"Bessell_U\"]]\n",
    "df2 = df_parameters[[\"id\",\"primary__t_eff\", \"secondary__t_eff\", \"inclination\", \"mass_ratio\", \"primary__surface_potential\", \"secondary__surface_potential\"]]\n",
    "df_merged = pd.merge(df1,df2,on=\"id\")\n",
    "df_merged[\"Bessell_U\"] = df_merged[\"Bessell_U\"].apply(get_curve)"
   ]
  },
  {
   "cell_type": "code",
   "execution_count": 7,
   "metadata": {},
   "outputs": [],
   "source": [
    "# BLOK 7\n",
    "# Uzavretie pripojenia na databazu. Ulozenie dat v podobe tabulky do suboru .pkl.\n",
    "\n",
    "conn.close()\n",
    "df_merged.to_pickle(\"overcontact_Bessell_U.pkl\") "
   ]
  },
  {
   "cell_type": "code",
   "execution_count": null,
   "metadata": {},
   "outputs": [],
   "source": []
  }
 ],
 "metadata": {
  "kernelspec": {
   "display_name": "Python 3",
   "language": "python",
   "name": "python3"
  },
  "language_info": {
   "codemirror_mode": {
    "name": "ipython",
    "version": 3
   },
   "file_extension": ".py",
   "mimetype": "text/x-python",
   "name": "python",
   "nbconvert_exporter": "python",
   "pygments_lexer": "ipython3",
   "version": "3.8.6"
  }
 },
 "nbformat": 4,
 "nbformat_minor": 4
}
